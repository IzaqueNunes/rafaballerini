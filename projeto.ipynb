{
  "nbformat": 4,
  "nbformat_minor": 0,
  "metadata": {
    "colab": {
      "provenance": [],
      "mount_file_id": "12iAlHKjcYmqbKEaPDNCttZR61t2nzHaG",
      "authorship_tag": "ABX9TyNZp0mi/MpLXipYeiDuidtJ",
      "include_colab_link": true
    },
    "kernelspec": {
      "name": "python3",
      "display_name": "Python 3"
    },
    "language_info": {
      "name": "python"
    }
  },
  "cells": [
    {
      "cell_type": "markdown",
      "metadata": {
        "id": "view-in-github",
        "colab_type": "text"
      },
      "source": [
        "<a href=\"https://colab.research.google.com/github/IzaqueNunes/rafaballerini/blob/main/projeto.ipynb\" target=\"_parent\"><img src=\"https://colab.research.google.com/assets/colab-badge.svg\" alt=\"Open In Colab\"/></a>"
      ]
    },
    {
      "cell_type": "markdown",
      "source": [
        "\n",
        "\n",
        "1.   (EXTRACT) - LENDO 3 DATAFRAMES DIFERENTES\n",
        "2.   (EXTRACT) - IDENTIFICANDO DADOS FALTANTES\n",
        "3.   (TRANSFORM) - TRANSFORMANDO OS DADOS PARA A TABELA NÃO POSSUIR DADOS FALTANTES\n",
        "4.   (LOAD) - GRAVANDO OS NOVOS DADOS EM NOVAS TABELAS\n",
        "\n"
      ],
      "metadata": {
        "id": "v5oZJjXFSmt4"
      }
    },
    {
      "cell_type": "code",
      "source": [
        "import pandas as pd"
      ],
      "metadata": {
        "id": "Nj5cGXf2UUO5"
      },
      "execution_count": null,
      "outputs": []
    },
    {
      "cell_type": "code",
      "source": [
        "dfNFL = pd.read_csv('/content/drive/MyDrive/DATAFRAMES/superbowloffensivestats.csv')\n",
        "dfGOT = pd.read_csv('/content/drive/MyDrive/DATAFRAMES/gameofthrones.csv')\n",
        "dfNetflix = pd.read_csv('/content/drive/MyDrive/DATAFRAMES/student_data.csv')"
      ],
      "metadata": {
        "id": "-YHur7yyUfcI"
      },
      "execution_count": null,
      "outputs": []
    },
    {
      "cell_type": "code",
      "source": [
        "dfNetflix.info()"
      ],
      "metadata": {
        "id": "XgVkPbaZU9jB",
        "colab": {
          "base_uri": "https://localhost:8080/"
        },
        "outputId": "c2efc913-50da-47dd-9fe9-02291dc1dd62"
      },
      "execution_count": null,
      "outputs": [
        {
          "output_type": "stream",
          "name": "stdout",
          "text": [
            "<class 'pandas.core.frame.DataFrame'>\n",
            "RangeIndex: 395 entries, 0 to 394\n",
            "Data columns (total 33 columns):\n",
            " #   Column      Non-Null Count  Dtype \n",
            "---  ------      --------------  ----- \n",
            " 0   school      395 non-null    object\n",
            " 1   sex         395 non-null    object\n",
            " 2   age         395 non-null    int64 \n",
            " 3   address     395 non-null    object\n",
            " 4   famsize     395 non-null    object\n",
            " 5   Pstatus     395 non-null    object\n",
            " 6   Medu        395 non-null    int64 \n",
            " 7   Fedu        395 non-null    int64 \n",
            " 8   Mjob        395 non-null    object\n",
            " 9   Fjob        395 non-null    object\n",
            " 10  reason      395 non-null    object\n",
            " 11  guardian    395 non-null    object\n",
            " 12  traveltime  395 non-null    int64 \n",
            " 13  studytime   395 non-null    int64 \n",
            " 14  failures    395 non-null    int64 \n",
            " 15  schoolsup   395 non-null    object\n",
            " 16  famsup      395 non-null    object\n",
            " 17  paid        395 non-null    object\n",
            " 18  activities  395 non-null    object\n",
            " 19  nursery     395 non-null    object\n",
            " 20  higher      395 non-null    object\n",
            " 21  internet    395 non-null    object\n",
            " 22  romantic    395 non-null    object\n",
            " 23  famrel      395 non-null    int64 \n",
            " 24  freetime    395 non-null    int64 \n",
            " 25  goout       395 non-null    int64 \n",
            " 26  Dalc        395 non-null    int64 \n",
            " 27  Walc        395 non-null    int64 \n",
            " 28  health      395 non-null    int64 \n",
            " 29  absences    395 non-null    int64 \n",
            " 30  G1          395 non-null    int64 \n",
            " 31  G2          395 non-null    int64 \n",
            " 32  G3          395 non-null    int64 \n",
            "dtypes: int64(16), object(17)\n",
            "memory usage: 102.0+ KB\n"
          ]
        }
      ]
    },
    {
      "cell_type": "code",
      "source": [
        "dfGOT.shape"
      ],
      "metadata": {
        "id": "RHPwXGg6Yu3Q",
        "colab": {
          "base_uri": "https://localhost:8080/"
        },
        "outputId": "bea56a42-f2c0-4beb-87c2-072ac89f83a6"
      },
      "execution_count": null,
      "outputs": [
        {
          "output_type": "execute_result",
          "data": {
            "text/plain": [
              "(463, 9)"
            ]
          },
          "metadata": {},
          "execution_count": 4
        }
      ]
    },
    {
      "cell_type": "code",
      "source": [
        "dfNetflix.head(100)"
      ],
      "metadata": {
        "id": "QKTKu43pbVF5",
        "colab": {
          "base_uri": "https://localhost:8080/",
          "height": 444
        },
        "outputId": "413337a9-ad2f-4dd7-8ef4-27ac2ee97a66"
      },
      "execution_count": null,
      "outputs": [
        {
          "output_type": "execute_result",
          "data": {
            "text/plain": [
              "   school sex  age address famsize Pstatus  Medu  Fedu      Mjob      Fjob  \\\n",
              "0      GP   F   18       U     GT3       A     4     4   at_home   teacher   \n",
              "1      GP   F   17       U     GT3       T     1     1   at_home     other   \n",
              "2      GP   F   15       U     LE3       T     1     1   at_home     other   \n",
              "3      GP   F   15       U     GT3       T     4     2    health  services   \n",
              "4      GP   F   16       U     GT3       T     3     3     other     other   \n",
              "..    ...  ..  ...     ...     ...     ...   ...   ...       ...       ...   \n",
              "95     GP   F   15       R     GT3       T     1     1   at_home     other   \n",
              "96     GP   M   16       R     GT3       T     4     3  services     other   \n",
              "97     GP   F   16       U     GT3       T     2     1     other     other   \n",
              "98     GP   F   16       U     GT3       T     4     4     other     other   \n",
              "99     GP   F   16       U     GT3       T     4     3     other   at_home   \n",
              "\n",
              "    ... famrel freetime  goout  Dalc  Walc health absences  G1  G2  G3  \n",
              "0   ...      4        3      4     1     1      3        6   5   6   6  \n",
              "1   ...      5        3      3     1     1      3        4   5   5   6  \n",
              "2   ...      4        3      2     2     3      3       10   7   8  10  \n",
              "3   ...      3        2      2     1     1      5        2  15  14  15  \n",
              "4   ...      4        3      2     1     2      5        4   6  10  10  \n",
              "..  ...    ...      ...    ...   ...   ...    ...      ...  ..  ..  ..  \n",
              "95  ...      3        1      2     1     1      1        2   7  10  10  \n",
              "96  ...      3        3      3     1     1      4        2  11  15  15  \n",
              "97  ...      4        3      5     1     1      5        2   8   9  10  \n",
              "98  ...      5        3      4     1     2      1        6  11  14  14  \n",
              "99  ...      5        3      5     1     1      3        0   7   9   8  \n",
              "\n",
              "[100 rows x 33 columns]"
            ],
            "text/html": [
              "\n",
              "  <div id=\"df-a31edf7d-8c3c-45e1-9d0e-6ddd4cc833f9\" class=\"colab-df-container\">\n",
              "    <div>\n",
              "<style scoped>\n",
              "    .dataframe tbody tr th:only-of-type {\n",
              "        vertical-align: middle;\n",
              "    }\n",
              "\n",
              "    .dataframe tbody tr th {\n",
              "        vertical-align: top;\n",
              "    }\n",
              "\n",
              "    .dataframe thead th {\n",
              "        text-align: right;\n",
              "    }\n",
              "</style>\n",
              "<table border=\"1\" class=\"dataframe\">\n",
              "  <thead>\n",
              "    <tr style=\"text-align: right;\">\n",
              "      <th></th>\n",
              "      <th>school</th>\n",
              "      <th>sex</th>\n",
              "      <th>age</th>\n",
              "      <th>address</th>\n",
              "      <th>famsize</th>\n",
              "      <th>Pstatus</th>\n",
              "      <th>Medu</th>\n",
              "      <th>Fedu</th>\n",
              "      <th>Mjob</th>\n",
              "      <th>Fjob</th>\n",
              "      <th>...</th>\n",
              "      <th>famrel</th>\n",
              "      <th>freetime</th>\n",
              "      <th>goout</th>\n",
              "      <th>Dalc</th>\n",
              "      <th>Walc</th>\n",
              "      <th>health</th>\n",
              "      <th>absences</th>\n",
              "      <th>G1</th>\n",
              "      <th>G2</th>\n",
              "      <th>G3</th>\n",
              "    </tr>\n",
              "  </thead>\n",
              "  <tbody>\n",
              "    <tr>\n",
              "      <th>0</th>\n",
              "      <td>GP</td>\n",
              "      <td>F</td>\n",
              "      <td>18</td>\n",
              "      <td>U</td>\n",
              "      <td>GT3</td>\n",
              "      <td>A</td>\n",
              "      <td>4</td>\n",
              "      <td>4</td>\n",
              "      <td>at_home</td>\n",
              "      <td>teacher</td>\n",
              "      <td>...</td>\n",
              "      <td>4</td>\n",
              "      <td>3</td>\n",
              "      <td>4</td>\n",
              "      <td>1</td>\n",
              "      <td>1</td>\n",
              "      <td>3</td>\n",
              "      <td>6</td>\n",
              "      <td>5</td>\n",
              "      <td>6</td>\n",
              "      <td>6</td>\n",
              "    </tr>\n",
              "    <tr>\n",
              "      <th>1</th>\n",
              "      <td>GP</td>\n",
              "      <td>F</td>\n",
              "      <td>17</td>\n",
              "      <td>U</td>\n",
              "      <td>GT3</td>\n",
              "      <td>T</td>\n",
              "      <td>1</td>\n",
              "      <td>1</td>\n",
              "      <td>at_home</td>\n",
              "      <td>other</td>\n",
              "      <td>...</td>\n",
              "      <td>5</td>\n",
              "      <td>3</td>\n",
              "      <td>3</td>\n",
              "      <td>1</td>\n",
              "      <td>1</td>\n",
              "      <td>3</td>\n",
              "      <td>4</td>\n",
              "      <td>5</td>\n",
              "      <td>5</td>\n",
              "      <td>6</td>\n",
              "    </tr>\n",
              "    <tr>\n",
              "      <th>2</th>\n",
              "      <td>GP</td>\n",
              "      <td>F</td>\n",
              "      <td>15</td>\n",
              "      <td>U</td>\n",
              "      <td>LE3</td>\n",
              "      <td>T</td>\n",
              "      <td>1</td>\n",
              "      <td>1</td>\n",
              "      <td>at_home</td>\n",
              "      <td>other</td>\n",
              "      <td>...</td>\n",
              "      <td>4</td>\n",
              "      <td>3</td>\n",
              "      <td>2</td>\n",
              "      <td>2</td>\n",
              "      <td>3</td>\n",
              "      <td>3</td>\n",
              "      <td>10</td>\n",
              "      <td>7</td>\n",
              "      <td>8</td>\n",
              "      <td>10</td>\n",
              "    </tr>\n",
              "    <tr>\n",
              "      <th>3</th>\n",
              "      <td>GP</td>\n",
              "      <td>F</td>\n",
              "      <td>15</td>\n",
              "      <td>U</td>\n",
              "      <td>GT3</td>\n",
              "      <td>T</td>\n",
              "      <td>4</td>\n",
              "      <td>2</td>\n",
              "      <td>health</td>\n",
              "      <td>services</td>\n",
              "      <td>...</td>\n",
              "      <td>3</td>\n",
              "      <td>2</td>\n",
              "      <td>2</td>\n",
              "      <td>1</td>\n",
              "      <td>1</td>\n",
              "      <td>5</td>\n",
              "      <td>2</td>\n",
              "      <td>15</td>\n",
              "      <td>14</td>\n",
              "      <td>15</td>\n",
              "    </tr>\n",
              "    <tr>\n",
              "      <th>4</th>\n",
              "      <td>GP</td>\n",
              "      <td>F</td>\n",
              "      <td>16</td>\n",
              "      <td>U</td>\n",
              "      <td>GT3</td>\n",
              "      <td>T</td>\n",
              "      <td>3</td>\n",
              "      <td>3</td>\n",
              "      <td>other</td>\n",
              "      <td>other</td>\n",
              "      <td>...</td>\n",
              "      <td>4</td>\n",
              "      <td>3</td>\n",
              "      <td>2</td>\n",
              "      <td>1</td>\n",
              "      <td>2</td>\n",
              "      <td>5</td>\n",
              "      <td>4</td>\n",
              "      <td>6</td>\n",
              "      <td>10</td>\n",
              "      <td>10</td>\n",
              "    </tr>\n",
              "    <tr>\n",
              "      <th>...</th>\n",
              "      <td>...</td>\n",
              "      <td>...</td>\n",
              "      <td>...</td>\n",
              "      <td>...</td>\n",
              "      <td>...</td>\n",
              "      <td>...</td>\n",
              "      <td>...</td>\n",
              "      <td>...</td>\n",
              "      <td>...</td>\n",
              "      <td>...</td>\n",
              "      <td>...</td>\n",
              "      <td>...</td>\n",
              "      <td>...</td>\n",
              "      <td>...</td>\n",
              "      <td>...</td>\n",
              "      <td>...</td>\n",
              "      <td>...</td>\n",
              "      <td>...</td>\n",
              "      <td>...</td>\n",
              "      <td>...</td>\n",
              "      <td>...</td>\n",
              "    </tr>\n",
              "    <tr>\n",
              "      <th>95</th>\n",
              "      <td>GP</td>\n",
              "      <td>F</td>\n",
              "      <td>15</td>\n",
              "      <td>R</td>\n",
              "      <td>GT3</td>\n",
              "      <td>T</td>\n",
              "      <td>1</td>\n",
              "      <td>1</td>\n",
              "      <td>at_home</td>\n",
              "      <td>other</td>\n",
              "      <td>...</td>\n",
              "      <td>3</td>\n",
              "      <td>1</td>\n",
              "      <td>2</td>\n",
              "      <td>1</td>\n",
              "      <td>1</td>\n",
              "      <td>1</td>\n",
              "      <td>2</td>\n",
              "      <td>7</td>\n",
              "      <td>10</td>\n",
              "      <td>10</td>\n",
              "    </tr>\n",
              "    <tr>\n",
              "      <th>96</th>\n",
              "      <td>GP</td>\n",
              "      <td>M</td>\n",
              "      <td>16</td>\n",
              "      <td>R</td>\n",
              "      <td>GT3</td>\n",
              "      <td>T</td>\n",
              "      <td>4</td>\n",
              "      <td>3</td>\n",
              "      <td>services</td>\n",
              "      <td>other</td>\n",
              "      <td>...</td>\n",
              "      <td>3</td>\n",
              "      <td>3</td>\n",
              "      <td>3</td>\n",
              "      <td>1</td>\n",
              "      <td>1</td>\n",
              "      <td>4</td>\n",
              "      <td>2</td>\n",
              "      <td>11</td>\n",
              "      <td>15</td>\n",
              "      <td>15</td>\n",
              "    </tr>\n",
              "    <tr>\n",
              "      <th>97</th>\n",
              "      <td>GP</td>\n",
              "      <td>F</td>\n",
              "      <td>16</td>\n",
              "      <td>U</td>\n",
              "      <td>GT3</td>\n",
              "      <td>T</td>\n",
              "      <td>2</td>\n",
              "      <td>1</td>\n",
              "      <td>other</td>\n",
              "      <td>other</td>\n",
              "      <td>...</td>\n",
              "      <td>4</td>\n",
              "      <td>3</td>\n",
              "      <td>5</td>\n",
              "      <td>1</td>\n",
              "      <td>1</td>\n",
              "      <td>5</td>\n",
              "      <td>2</td>\n",
              "      <td>8</td>\n",
              "      <td>9</td>\n",
              "      <td>10</td>\n",
              "    </tr>\n",
              "    <tr>\n",
              "      <th>98</th>\n",
              "      <td>GP</td>\n",
              "      <td>F</td>\n",
              "      <td>16</td>\n",
              "      <td>U</td>\n",
              "      <td>GT3</td>\n",
              "      <td>T</td>\n",
              "      <td>4</td>\n",
              "      <td>4</td>\n",
              "      <td>other</td>\n",
              "      <td>other</td>\n",
              "      <td>...</td>\n",
              "      <td>5</td>\n",
              "      <td>3</td>\n",
              "      <td>4</td>\n",
              "      <td>1</td>\n",
              "      <td>2</td>\n",
              "      <td>1</td>\n",
              "      <td>6</td>\n",
              "      <td>11</td>\n",
              "      <td>14</td>\n",
              "      <td>14</td>\n",
              "    </tr>\n",
              "    <tr>\n",
              "      <th>99</th>\n",
              "      <td>GP</td>\n",
              "      <td>F</td>\n",
              "      <td>16</td>\n",
              "      <td>U</td>\n",
              "      <td>GT3</td>\n",
              "      <td>T</td>\n",
              "      <td>4</td>\n",
              "      <td>3</td>\n",
              "      <td>other</td>\n",
              "      <td>at_home</td>\n",
              "      <td>...</td>\n",
              "      <td>5</td>\n",
              "      <td>3</td>\n",
              "      <td>5</td>\n",
              "      <td>1</td>\n",
              "      <td>1</td>\n",
              "      <td>3</td>\n",
              "      <td>0</td>\n",
              "      <td>7</td>\n",
              "      <td>9</td>\n",
              "      <td>8</td>\n",
              "    </tr>\n",
              "  </tbody>\n",
              "</table>\n",
              "<p>100 rows × 33 columns</p>\n",
              "</div>\n",
              "    <div class=\"colab-df-buttons\">\n",
              "\n",
              "  <div class=\"colab-df-container\">\n",
              "    <button class=\"colab-df-convert\" onclick=\"convertToInteractive('df-a31edf7d-8c3c-45e1-9d0e-6ddd4cc833f9')\"\n",
              "            title=\"Convert this dataframe to an interactive table.\"\n",
              "            style=\"display:none;\">\n",
              "\n",
              "  <svg xmlns=\"http://www.w3.org/2000/svg\" height=\"24px\" viewBox=\"0 -960 960 960\">\n",
              "    <path d=\"M120-120v-720h720v720H120Zm60-500h600v-160H180v160Zm220 220h160v-160H400v160Zm0 220h160v-160H400v160ZM180-400h160v-160H180v160Zm440 0h160v-160H620v160ZM180-180h160v-160H180v160Zm440 0h160v-160H620v160Z\"/>\n",
              "  </svg>\n",
              "    </button>\n",
              "\n",
              "  <style>\n",
              "    .colab-df-container {\n",
              "      display:flex;\n",
              "      gap: 12px;\n",
              "    }\n",
              "\n",
              "    .colab-df-convert {\n",
              "      background-color: #E8F0FE;\n",
              "      border: none;\n",
              "      border-radius: 50%;\n",
              "      cursor: pointer;\n",
              "      display: none;\n",
              "      fill: #1967D2;\n",
              "      height: 32px;\n",
              "      padding: 0 0 0 0;\n",
              "      width: 32px;\n",
              "    }\n",
              "\n",
              "    .colab-df-convert:hover {\n",
              "      background-color: #E2EBFA;\n",
              "      box-shadow: 0px 1px 2px rgba(60, 64, 67, 0.3), 0px 1px 3px 1px rgba(60, 64, 67, 0.15);\n",
              "      fill: #174EA6;\n",
              "    }\n",
              "\n",
              "    .colab-df-buttons div {\n",
              "      margin-bottom: 4px;\n",
              "    }\n",
              "\n",
              "    [theme=dark] .colab-df-convert {\n",
              "      background-color: #3B4455;\n",
              "      fill: #D2E3FC;\n",
              "    }\n",
              "\n",
              "    [theme=dark] .colab-df-convert:hover {\n",
              "      background-color: #434B5C;\n",
              "      box-shadow: 0px 1px 3px 1px rgba(0, 0, 0, 0.15);\n",
              "      filter: drop-shadow(0px 1px 2px rgba(0, 0, 0, 0.3));\n",
              "      fill: #FFFFFF;\n",
              "    }\n",
              "  </style>\n",
              "\n",
              "    <script>\n",
              "      const buttonEl =\n",
              "        document.querySelector('#df-a31edf7d-8c3c-45e1-9d0e-6ddd4cc833f9 button.colab-df-convert');\n",
              "      buttonEl.style.display =\n",
              "        google.colab.kernel.accessAllowed ? 'block' : 'none';\n",
              "\n",
              "      async function convertToInteractive(key) {\n",
              "        const element = document.querySelector('#df-a31edf7d-8c3c-45e1-9d0e-6ddd4cc833f9');\n",
              "        const dataTable =\n",
              "          await google.colab.kernel.invokeFunction('convertToInteractive',\n",
              "                                                    [key], {});\n",
              "        if (!dataTable) return;\n",
              "\n",
              "        const docLinkHtml = 'Like what you see? Visit the ' +\n",
              "          '<a target=\"_blank\" href=https://colab.research.google.com/notebooks/data_table.ipynb>data table notebook</a>'\n",
              "          + ' to learn more about interactive tables.';\n",
              "        element.innerHTML = '';\n",
              "        dataTable['output_type'] = 'display_data';\n",
              "        await google.colab.output.renderOutput(dataTable, element);\n",
              "        const docLink = document.createElement('div');\n",
              "        docLink.innerHTML = docLinkHtml;\n",
              "        element.appendChild(docLink);\n",
              "      }\n",
              "    </script>\n",
              "  </div>\n",
              "\n",
              "\n",
              "<div id=\"df-4f0a46ea-52ff-4c26-9790-569a0a05111a\">\n",
              "  <button class=\"colab-df-quickchart\" onclick=\"quickchart('df-4f0a46ea-52ff-4c26-9790-569a0a05111a')\"\n",
              "            title=\"Suggest charts.\"\n",
              "            style=\"display:none;\">\n",
              "\n",
              "<svg xmlns=\"http://www.w3.org/2000/svg\" height=\"24px\"viewBox=\"0 0 24 24\"\n",
              "     width=\"24px\">\n",
              "    <g>\n",
              "        <path d=\"M19 3H5c-1.1 0-2 .9-2 2v14c0 1.1.9 2 2 2h14c1.1 0 2-.9 2-2V5c0-1.1-.9-2-2-2zM9 17H7v-7h2v7zm4 0h-2V7h2v10zm4 0h-2v-4h2v4z\"/>\n",
              "    </g>\n",
              "</svg>\n",
              "  </button>\n",
              "\n",
              "<style>\n",
              "  .colab-df-quickchart {\n",
              "    background-color: #E8F0FE;\n",
              "    border: none;\n",
              "    border-radius: 50%;\n",
              "    cursor: pointer;\n",
              "    display: none;\n",
              "    fill: #1967D2;\n",
              "    height: 32px;\n",
              "    padding: 0 0 0 0;\n",
              "    width: 32px;\n",
              "  }\n",
              "\n",
              "  .colab-df-quickchart:hover {\n",
              "    background-color: #E2EBFA;\n",
              "    box-shadow: 0px 1px 2px rgba(60, 64, 67, 0.3), 0px 1px 3px 1px rgba(60, 64, 67, 0.15);\n",
              "    fill: #174EA6;\n",
              "  }\n",
              "\n",
              "  [theme=dark] .colab-df-quickchart {\n",
              "    background-color: #3B4455;\n",
              "    fill: #D2E3FC;\n",
              "  }\n",
              "\n",
              "  [theme=dark] .colab-df-quickchart:hover {\n",
              "    background-color: #434B5C;\n",
              "    box-shadow: 0px 1px 3px 1px rgba(0, 0, 0, 0.15);\n",
              "    filter: drop-shadow(0px 1px 2px rgba(0, 0, 0, 0.3));\n",
              "    fill: #FFFFFF;\n",
              "  }\n",
              "</style>\n",
              "\n",
              "  <script>\n",
              "    async function quickchart(key) {\n",
              "      const charts = await google.colab.kernel.invokeFunction(\n",
              "          'suggestCharts', [key], {});\n",
              "    }\n",
              "    (() => {\n",
              "      let quickchartButtonEl =\n",
              "        document.querySelector('#df-4f0a46ea-52ff-4c26-9790-569a0a05111a button');\n",
              "      quickchartButtonEl.style.display =\n",
              "        google.colab.kernel.accessAllowed ? 'block' : 'none';\n",
              "    })();\n",
              "  </script>\n",
              "</div>\n",
              "    </div>\n",
              "  </div>\n"
            ]
          },
          "metadata": {},
          "execution_count": 5
        }
      ]
    },
    {
      "cell_type": "code",
      "source": [
        "dfNetflix.isnull().count()"
      ],
      "metadata": {
        "id": "S3_N4Q0AbYDB",
        "colab": {
          "base_uri": "https://localhost:8080/"
        },
        "outputId": "9aff1870-3312-4cc1-e63d-280b6b572cba"
      },
      "execution_count": null,
      "outputs": [
        {
          "output_type": "execute_result",
          "data": {
            "text/plain": [
              "school        395\n",
              "sex           395\n",
              "age           395\n",
              "address       395\n",
              "famsize       395\n",
              "Pstatus       395\n",
              "Medu          395\n",
              "Fedu          395\n",
              "Mjob          395\n",
              "Fjob          395\n",
              "reason        395\n",
              "guardian      395\n",
              "traveltime    395\n",
              "studytime     395\n",
              "failures      395\n",
              "schoolsup     395\n",
              "famsup        395\n",
              "paid          395\n",
              "activities    395\n",
              "nursery       395\n",
              "higher        395\n",
              "internet      395\n",
              "romantic      395\n",
              "famrel        395\n",
              "freetime      395\n",
              "goout         395\n",
              "Dalc          395\n",
              "Walc          395\n",
              "health        395\n",
              "absences      395\n",
              "G1            395\n",
              "G2            395\n",
              "G3            395\n",
              "dtype: int64"
            ]
          },
          "metadata": {},
          "execution_count": 6
        }
      ]
    },
    {
      "cell_type": "code",
      "source": [
        "dfGOT.isnull().count()"
      ],
      "metadata": {
        "id": "7JgELtcWYyVQ",
        "colab": {
          "base_uri": "https://localhost:8080/"
        },
        "outputId": "60ddf82a-bfff-4ada-b072-9b10bcda74ce"
      },
      "execution_count": null,
      "outputs": [
        {
          "output_type": "execute_result",
          "data": {
            "text/plain": [
              "Region              463\n",
              "House               463\n",
              "Sigil               463\n",
              "Blazon              463\n",
              "Seat                463\n",
              "Words               463\n",
              "Origin              463\n",
              "Notes               463\n",
              "Ancestral weapon    463\n",
              "dtype: int64"
            ]
          },
          "metadata": {},
          "execution_count": 7
        }
      ]
    },
    {
      "cell_type": "code",
      "source": [
        "dfNFL.isnull().count()"
      ],
      "metadata": {
        "id": "9q85b62TVA2A",
        "colab": {
          "base_uri": "https://localhost:8080/"
        },
        "outputId": "eac61a33-d245-4961-9642-8b673389c630"
      },
      "execution_count": null,
      "outputs": [
        {
          "output_type": "execute_result",
          "data": {
            "text/plain": [
              "id                   1019\n",
              "year                 1019\n",
              "player               1019\n",
              "team                 1019\n",
              "completions          1019\n",
              "pass_attempts        1019\n",
              "passing_yards        1019\n",
              "passing_td           1019\n",
              "interception         1019\n",
              "times_sacked         1019\n",
              "sack_yards           1019\n",
              "longest_pass         1019\n",
              "qbr                  1019\n",
              "rush_attempts        1019\n",
              "rushing_yards        1019\n",
              "rushing_td           1019\n",
              "longest_run          1019\n",
              "receptions           1019\n",
              "receiving_yards      1019\n",
              "receiving_td         1019\n",
              "longest_reception    1019\n",
              "fumble               1019\n",
              "fumbles_lost         1019\n",
              "dtype: int64"
            ]
          },
          "metadata": {},
          "execution_count": 8
        }
      ]
    },
    {
      "cell_type": "code",
      "source": [
        "dfGOT.isnull().count()/len(dfGOT['House'])*100"
      ],
      "metadata": {
        "id": "l2oz0kb0Y44Y",
        "colab": {
          "base_uri": "https://localhost:8080/"
        },
        "outputId": "4c713d3d-9529-4e33-a809-5eec504f4ab6"
      },
      "execution_count": null,
      "outputs": [
        {
          "output_type": "execute_result",
          "data": {
            "text/plain": [
              "Region              100.0\n",
              "House               100.0\n",
              "Sigil               100.0\n",
              "Blazon              100.0\n",
              "Seat                100.0\n",
              "Words               100.0\n",
              "Origin              100.0\n",
              "Notes               100.0\n",
              "Ancestral weapon    100.0\n",
              "dtype: float64"
            ]
          },
          "metadata": {},
          "execution_count": 11
        }
      ]
    },
    {
      "cell_type": "code",
      "source": [
        "dfNetflixWithoutNaN = dfNetflix.dropna()"
      ],
      "metadata": {
        "id": "2ogX8LyJcFwz"
      },
      "execution_count": null,
      "outputs": []
    },
    {
      "cell_type": "code",
      "source": [
        "dfNFLWithoutNaN = dfNFL.dropna()"
      ],
      "metadata": {
        "id": "CMT1wcvZVZrZ"
      },
      "execution_count": null,
      "outputs": []
    },
    {
      "cell_type": "code",
      "source": [
        "dfGOTWithoutNaN = dfGOT.dropna()"
      ],
      "metadata": {
        "id": "J2VmlLkCY_3s"
      },
      "execution_count": null,
      "outputs": []
    },
    {
      "cell_type": "code",
      "source": [
        "dfNetflixWithoutNaN.shape"
      ],
      "metadata": {
        "id": "kONsA8RTcKeK",
        "colab": {
          "base_uri": "https://localhost:8080/"
        },
        "outputId": "3d0a92bc-094d-4626-fbdc-ea7577c5ec35"
      },
      "execution_count": null,
      "outputs": [
        {
          "output_type": "execute_result",
          "data": {
            "text/plain": [
              "(395, 33)"
            ]
          },
          "metadata": {},
          "execution_count": 15
        }
      ]
    },
    {
      "cell_type": "code",
      "source": [
        "dfNFLWithoutNaN.shape"
      ],
      "metadata": {
        "id": "bpnQYnVRVlM5",
        "colab": {
          "base_uri": "https://localhost:8080/"
        },
        "outputId": "b46b2cc7-3f4d-426c-f2b3-8e60df4ea398"
      },
      "execution_count": null,
      "outputs": [
        {
          "output_type": "execute_result",
          "data": {
            "text/plain": [
              "(59, 23)"
            ]
          },
          "metadata": {},
          "execution_count": 16
        }
      ]
    },
    {
      "cell_type": "code",
      "source": [
        "dfGOTWithoutNaN.shape"
      ],
      "metadata": {
        "id": "eH9wUYR4ZDDx",
        "colab": {
          "base_uri": "https://localhost:8080/"
        },
        "outputId": "2816cfd0-c8f2-417e-dcd5-31c9ee06983a"
      },
      "execution_count": null,
      "outputs": [
        {
          "output_type": "execute_result",
          "data": {
            "text/plain": [
              "(0, 9)"
            ]
          },
          "metadata": {},
          "execution_count": 17
        }
      ]
    },
    {
      "cell_type": "markdown",
      "source": [
        "DATA FRAME FUTEBOL: COMPARANDO O ANTES E DEPOIS DO DATA FRAME DROPANDO OS DADOS NULOS, VERIFIVAMOS QUE O DATA FRAME DE FUTEBOL AMERICANO PERDEU QUASE TODOS OS DADOS.\n",
        "\n",
        "DATA FRAME GAME OF TRHONES: EM TODAS AS COLUNAS HAVIA ALGUM DADO FALTANTE, LOGO O DROPNA EXCLUI TODOS OS DADOS.\n",
        "\n",
        "DATA FRAME ESPORT"
      ],
      "metadata": {
        "id": "eKTyh6-ZVrOA"
      }
    },
    {
      "cell_type": "code",
      "source": [
        "dfNFL['fumbles_lost'].fillna('Nenhum', inplace = True)"
      ],
      "metadata": {
        "id": "FXEK5vkOWGdZ"
      },
      "execution_count": null,
      "outputs": []
    },
    {
      "cell_type": "code",
      "source": [
        "dfGOT['Origin'].fillna('Nenhuma', inplace = True)\n",
        "dfGOT['Ancestral weapon'].fillna('Nenhuma', inplace = True)\n",
        "dfGOT['Blazon'].fillna('Nenhuma', inplace = True)\n",
        "dfGOT['House'].fillna('Nenhuma', inplace = True)\n",
        "dfGOT['Notes'].fillna('Nenhuma', inplace = True)\n",
        "dfGOT['Region'].fillna('Nenhuma', inplace = True)\n",
        "dfGOT['Seat'].fillna('Nenhuma', inplace = True)\n",
        "dfGOT['Sigil'].fillna('Nenhuma', inplace = True)\n",
        "dfGOT['Words'].fillna('Nenhuma', inplace = True)"
      ],
      "metadata": {
        "id": "bBI3BiFnZT2J"
      },
      "execution_count": null,
      "outputs": []
    },
    {
      "cell_type": "code",
      "source": [
        "dfNFLWithoutNaN2 = dfNFL.dropna()\n",
        "dfNFLWithoutNaN2.shape"
      ],
      "metadata": {
        "colab": {
          "base_uri": "https://localhost:8080/"
        },
        "id": "H43XTVw0XqNZ",
        "outputId": "c32613a7-ca0c-4e95-87fa-8daa272013fc"
      },
      "execution_count": null,
      "outputs": [
        {
          "output_type": "execute_result",
          "data": {
            "text/plain": [
              "(145, 23)"
            ]
          },
          "metadata": {},
          "execution_count": 21
        }
      ]
    },
    {
      "cell_type": "code",
      "source": [
        "dfGOTWithoutNaN2 = dfGOT.dropna()\n",
        "dfGOTWithoutNaN2.shape"
      ],
      "metadata": {
        "colab": {
          "base_uri": "https://localhost:8080/"
        },
        "id": "UWmFbYDoZhz5",
        "outputId": "97fe1486-df55-4202-a3b1-15c9a8a8683d"
      },
      "execution_count": null,
      "outputs": [
        {
          "output_type": "execute_result",
          "data": {
            "text/plain": [
              "(463, 9)"
            ]
          },
          "metadata": {},
          "execution_count": 22
        }
      ]
    },
    {
      "cell_type": "code",
      "source": [
        "dfNetflixWithoutNaN2 = dfNetflix.dropna()\n",
        "dfNetflixWithoutNaN2.shape"
      ],
      "metadata": {
        "id": "U5nT52ZSdTCJ",
        "colab": {
          "base_uri": "https://localhost:8080/"
        },
        "outputId": "df7ca750-3c86-408a-ff50-93533bf28cc1"
      },
      "execution_count": null,
      "outputs": [
        {
          "output_type": "execute_result",
          "data": {
            "text/plain": [
              "(395, 33)"
            ]
          },
          "metadata": {},
          "execution_count": 23
        }
      ]
    }
  ]
}